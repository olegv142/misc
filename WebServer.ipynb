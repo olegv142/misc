{
 "cells": [
  {
   "cell_type": "code",
   "execution_count": 1,
   "metadata": {
    "collapsed": false
   },
   "outputs": [
    {
     "name": "stdout",
     "output_type": "stream",
     "text": [
      "<socket.socket fd=1116, family=AddressFamily.AF_INET, type=SocketKind.SOCK_STREAM, proto=0, laddr=('0.0.0.0', 8200)>\n"
     ]
    },
    {
     "name": "stderr",
     "output_type": "stream",
     "text": [
      "127.0.0.1 - - [03/Aug/2017 11:37:03] \"GET / HTTP/1.1\" 200 -\n",
      "127.0.0.1 - - [03/Aug/2017 11:37:03] code 404, message File not found\n",
      "127.0.0.1 - - [03/Aug/2017 11:37:03] \"GET /favicon.ico HTTP/1.1\" 404 -\n",
      "127.0.0.1 - - [03/Aug/2017 11:37:03] code 404, message File not found\n",
      "127.0.0.1 - - [03/Aug/2017 11:37:03] \"GET /favicon.ico HTTP/1.1\" 404 -\n",
      "127.0.0.1 - - [03/Aug/2017 11:37:12] \"GET /WebServer.ipynb HTTP/1.1\" 200 -\n",
      "127.0.0.1 - - [03/Aug/2017 11:37:17] \"GET /python_classes1.ipynb HTTP/1.1\" 200 -\n"
     ]
    }
   ],
   "source": [
    "import http.server\n",
    "\n",
    "server_address = ('', 8200)\n",
    "httpd = http.server.HTTPServer(server_address, http.server.SimpleHTTPRequestHandler)\n",
    "print(httpd.socket)\n",
    "try:\n",
    "    httpd.serve_forever()\n",
    "except KeyboardInterrupt:\n",
    "    httpd.socket.close()\n"
   ]
  },
  {
   "cell_type": "code",
   "execution_count": 2,
   "metadata": {
    "collapsed": false
   },
   "outputs": [
    {
     "name": "stdout",
     "output_type": "stream",
     "text": [
      "<socket.socket fd=1452, family=AddressFamily.AF_INET, type=SocketKind.SOCK_STREAM, proto=0, laddr=('0.0.0.0', 8201)>\n",
      "GET / HTTP/1.1 from ('127.0.0.1', 50551)\n",
      "Host: localhost:8201\n",
      "User-Agent: Mozilla/5.0 (Windows NT 10.0; WOW64; rv:54.0) Gecko/20100101 Firefox/54.0\n",
      "Accept: text/html,application/xhtml+xml,application/xml;q=0.9,*/*;q=0.8\n",
      "Accept-Language: ru-RU,ru;q=0.8,en-US;q=0.5,en;q=0.3\n",
      "Accept-Encoding: gzip, deflate\n",
      "Connection: keep-alive\n",
      "Upgrade-Insecure-Requests: 1\n",
      "\n",
      "\n",
      "GET /favicon.ico HTTP/1.1 from ('127.0.0.1', 50552)\n",
      "Host: localhost:8201\n",
      "User-Agent: Mozilla/5.0 (Windows NT 10.0; WOW64; rv:54.0) Gecko/20100101 Firefox/54.0\n",
      "Accept: */*\n",
      "Accept-Language: ru-RU,ru;q=0.8,en-US;q=0.5,en;q=0.3\n",
      "Accept-Encoding: gzip, deflate\n",
      "Connection: keep-alive\n",
      "\n",
      "\n",
      "GET /favicon.ico HTTP/1.1 from ('127.0.0.1', 50553)\n",
      "Host: localhost:8201\n",
      "User-Agent: Mozilla/5.0 (Windows NT 10.0; WOW64; rv:54.0) Gecko/20100101 Firefox/54.0\n",
      "Accept: text/html,application/xhtml+xml,application/xml;q=0.9,*/*;q=0.8\n",
      "Accept-Language: ru-RU,ru;q=0.8,en-US;q=0.5,en;q=0.3\n",
      "Accept-Encoding: gzip, deflate\n",
      "Connection: keep-alive\n",
      "\n",
      "\n",
      "GET / HTTP/1.1 from ('127.0.0.1', 50556)\n",
      "Host: localhost:8201\n",
      "User-Agent: Mozilla/5.0 (Windows NT 10.0; WOW64; rv:54.0) Gecko/20100101 Firefox/54.0\n",
      "Accept: text/html,application/xhtml+xml,application/xml;q=0.9,*/*;q=0.8\n",
      "Accept-Language: ru-RU,ru;q=0.8,en-US;q=0.5,en;q=0.3\n",
      "Accept-Encoding: gzip, deflate\n",
      "Connection: keep-alive\n",
      "Upgrade-Insecure-Requests: 1\n",
      "Cache-Control: max-age=0\n",
      "\n",
      "\n"
     ]
    }
   ],
   "source": [
    "import http.server\n",
    "\n",
    "class MyRequestHandler(http.server.BaseHTTPRequestHandler):\n",
    "    def do_GET(self):\n",
    "        print('{0} from {1}'.format(self.requestline, self.client_address))\n",
    "        print(self.headers)\n",
    "        self.wfile.write(\"\"\"\n",
    "HTTP/1.x 200 OK\n",
    "\n",
    "<html>\n",
    " <head>\n",
    "  <title>Test page</title>\n",
    " </head>\n",
    " <body>\n",
    "    <h>Header</h>\n",
    "    <p>paragraph 1</p>\n",
    "    <p>paragraph 2</p>\n",
    "  </body>\n",
    "</html>\n",
    "        \"\"\".encode())\n",
    "\n",
    "server_address = ('', 8201)\n",
    "httpd = http.server.HTTPServer(server_address, MyRequestHandler)\n",
    "print(httpd.socket)\n",
    "try:\n",
    "    httpd.serve_forever()\n",
    "except KeyboardInterrupt:\n",
    "    httpd.socket.close()\n"
   ]
  },
  {
   "cell_type": "code",
   "execution_count": null,
   "metadata": {
    "collapsed": false
   },
   "outputs": [
    {
     "name": "stdout",
     "output_type": "stream",
     "text": [
      "<socket.socket fd=1416, family=AddressFamily.AF_INET, type=SocketKind.SOCK_STREAM, proto=0, laddr=('0.0.0.0', 8202)>\n",
      "GET / HTTP/1.1 from ('127.0.0.1', 50570)\n",
      "Host: localhost:8202\n",
      "User-Agent: Mozilla/5.0 (Windows NT 10.0; WOW64; rv:54.0) Gecko/20100101 Firefox/54.0\n",
      "Accept: text/html,application/xhtml+xml,application/xml;q=0.9,*/*;q=0.8\n",
      "Accept-Language: ru-RU,ru;q=0.8,en-US;q=0.5,en;q=0.3\n",
      "Accept-Encoding: gzip, deflate\n",
      "Connection: keep-alive\n",
      "Upgrade-Insecure-Requests: 1\n",
      "\n",
      "\n",
      "GET /favicon.ico HTTP/1.1 from ('127.0.0.1', 50571)\n",
      "Host: localhost:8202\n",
      "User-Agent: Mozilla/5.0 (Windows NT 10.0; WOW64; rv:54.0) Gecko/20100101 Firefox/54.0\n",
      "Accept: */*\n",
      "Accept-Language: ru-RU,ru;q=0.8,en-US;q=0.5,en;q=0.3\n",
      "Accept-Encoding: gzip, deflate\n",
      "Connection: keep-alive\n",
      "\n",
      "\n",
      "GET /favicon.ico HTTP/1.1 from ('127.0.0.1', 50572)\n",
      "Host: localhost:8202\n",
      "User-Agent: Mozilla/5.0 (Windows NT 10.0; WOW64; rv:54.0) Gecko/20100101 Firefox/54.0\n",
      "Accept: text/html,application/xhtml+xml,application/xml;q=0.9,*/*;q=0.8\n",
      "Accept-Language: ru-RU,ru;q=0.8,en-US;q=0.5,en;q=0.3\n",
      "Accept-Encoding: gzip, deflate\n",
      "Connection: keep-alive\n",
      "\n",
      "\n",
      "POST / HTTP/1.1 from ('127.0.0.1', 50576)\n",
      "Host: localhost:8202\n",
      "User-Agent: Mozilla/5.0 (Windows NT 10.0; WOW64; rv:54.0) Gecko/20100101 Firefox/54.0\n",
      "Accept: text/html,application/xhtml+xml,application/xml;q=0.9,*/*;q=0.8\n",
      "Accept-Language: ru-RU,ru;q=0.8,en-US;q=0.5,en;q=0.3\n",
      "Accept-Encoding: gzip, deflate\n",
      "Content-Type: application/x-www-form-urlencoded\n",
      "Content-Length: 11\n",
      "Referer: http://localhost:8202/\n",
      "Connection: keep-alive\n",
      "Upgrade-Insecure-Requests: 1\n",
      "\n",
      "\n",
      "MyName=Oleg\n"
     ]
    }
   ],
   "source": [
    "import http.server\n",
    "\n",
    "class MyRequestHandler(http.server.BaseHTTPRequestHandler):\n",
    "    def do_GET(self):\n",
    "        print('{0} from {1}'.format(self.requestline, self.client_address))\n",
    "        print(self.headers)\n",
    "        self.wfile.write(\"\"\"\n",
    "HTTP/1.x 200 OK\n",
    "\n",
    "<html>\n",
    "  <head>\n",
    "    <title>Test form</title>\n",
    "  </head>\n",
    "  <body>\n",
    "    <form name=\"test\" method=\"post\">\n",
    "      <p>\n",
    "        <b>Your name:</b><input type=\"text\" name=\"MyName\" size=\"40\">\n",
    "      </p>\n",
    "      <p>\n",
    "        <input type=\"submit\" value=\"Send\">\n",
    "        <input type=\"reset\" value=\"Clear\">\n",
    "      </p>\n",
    "    </form>\n",
    "  </body>\n",
    "</html>\n",
    "        \"\"\".encode())\n",
    "\n",
    "    def do_POST(self):\n",
    "        print('{0} from {1}'.format(self.requestline, self.client_address))\n",
    "        print(self.headers)\n",
    "        content_len = int(self.headers.get('Content-Length'))\n",
    "        content = self.rfile.read(content_len).decode()\n",
    "        print(content)\n",
    "        self.wfile.write(\"\"\"\n",
    "HTTP/1.x 200 OK\n",
    "\n",
    "<html>\n",
    "  <head>\n",
    "    <title>Test form</title>\n",
    "  </head>\n",
    "  <body>\n",
    "    <p>Thank you!<p>\n",
    "  </body>\n",
    "</html>\n",
    "        \"\"\".encode())\n",
    "\n",
    "server_address = ('', 8202)\n",
    "httpd = http.server.HTTPServer(server_address, MyRequestHandler)\n",
    "print(httpd.socket)\n",
    "try:\n",
    "    httpd.serve_forever()\n",
    "except KeyboardInterrupt:\n",
    "    httpd.socket.close()\n"
   ]
  },
  {
   "cell_type": "code",
   "execution_count": null,
   "metadata": {
    "collapsed": true
   },
   "outputs": [],
   "source": []
  }
 ],
 "metadata": {
  "kernelspec": {
   "display_name": "Python 3",
   "language": "python",
   "name": "python3"
  },
  "language_info": {
   "codemirror_mode": {
    "name": "ipython",
    "version": 3
   },
   "file_extension": ".py",
   "mimetype": "text/x-python",
   "name": "python",
   "nbconvert_exporter": "python",
   "pygments_lexer": "ipython3",
   "version": "3.5.1"
  }
 },
 "nbformat": 4,
 "nbformat_minor": 0
}
