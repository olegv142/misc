{
 "cells": [
  {
   "cell_type": "code",
   "execution_count": null,
   "metadata": {
    "collapsed": true
   },
   "outputs": [],
   "source": [
    "class Empty:\n",
    "    pass\n",
    "\n",
    "e = Empty()\n",
    "e.something = 1\n",
    "print(e.something)"
   ]
  },
  {
   "cell_type": "markdown",
   "metadata": {},
   "source": [
    "Пустой класс - это просто пустой мешок, в котором изначально нет никаких переменных (их принято называть членами класса - *class members*). Их можно туда добавить, написав имя через точку. Ключевое слово *empty* используется всегда, когда синтакс требует, чтобы что то было написано, а писать нам нечего. Можно ли сразу создать экземпляр класса с нужным наполнением? Так обычно и делают - для этого используется *конструктор*\n"
   ]
  },
  {
   "cell_type": "code",
   "execution_count": 2,
   "metadata": {
    "collapsed": false
   },
   "outputs": [
    {
     "name": "stdout",
     "output_type": "stream",
     "text": [
      "0 2\n"
     ]
    }
   ],
   "source": [
    "class Segment:\n",
    "    def __init__(self, left, right):\n",
    "        self.left = left\n",
    "        self.right = right\n",
    "\n",
    "s = Segment(0, 2)\n",
    "print(s.left, s.right)"
   ]
  },
  {
   "cell_type": "markdown",
   "metadata": {},
   "source": [
    "Конструктор имеет предопределенное имя *\\_\\_init\\_\\_*. Конструктор вызывается всякий раз, когда создается новый экземпляр класса. В качестве первого параметра он получает тот самый экземпляр, который создается, и добавляет туда члены класса. По традиции этот параметр называется *self*. Остальные параметры конструктора - это то, что ты пишешь в скобках после имени класса. Конструктор - это *метод* класса. Так называют функции, которые работают с экземплярами класса. Они получают этот экземпляр в качестве первого параметра. Еще пример метода:"
   ]
  },
  {
   "cell_type": "code",
   "execution_count": 3,
   "metadata": {
    "collapsed": false
   },
   "outputs": [
    {
     "name": "stdout",
     "output_type": "stream",
     "text": [
      "2\n"
     ]
    }
   ],
   "source": [
    "class Segment:\n",
    "    def __init__(self, left, right):\n",
    "        self.left = left\n",
    "        self.right = right\n",
    "\n",
    "    def Length(self):\n",
    "        return self.right - self.left\n",
    "\n",
    "s = Segment(0, 2)\n",
    "print(s.Length())\n"
   ]
  },
  {
   "cell_type": "markdown",
   "metadata": {},
   "source": [
    "Вызов метода оформляется точно так же, как доступ к членам класса - через точку. Кроме конструктора, есть еще методы с предопределенными именами. Чаще всего используется метод *\\_\\_str\\_\\_*, который преобразует экземпляр класса в строку, например если ты передаешь его функции *print*."
   ]
  },
  {
   "cell_type": "code",
   "execution_count": 6,
   "metadata": {
    "collapsed": false
   },
   "outputs": [
    {
     "name": "stdout",
     "output_type": "stream",
     "text": [
      "[0, 2]\n"
     ]
    }
   ],
   "source": [
    "class Segment:\n",
    "    def __init__(self, left, right):\n",
    "        self.left = left\n",
    "        self.right = right\n",
    "\n",
    "    def Length(self):\n",
    "        return self.right - self.left\n",
    "\n",
    "    def __str__(self):\n",
    "        return '[{0}, {1}]'.format(self.left, self.right)\n",
    "    \n",
    "s = Segment(0, 2)\n",
    "print(s)"
   ]
  },
  {
   "cell_type": "markdown",
   "metadata": {},
   "source": [
    "Классы придуманы для моделирования объектов реального мира (или математических понятий), их экземпляры так и называются объектами. Строки и списки в питоне - тоже объекты, т.к. у них есть методы. Члены классов отражают внутреннюю структуру объектов, а методы - способы взаимодействия с ними. При этом мы взаимодействуем с объектом как с целым, нам нет необходимости знать о его внутренней структуре. Эта важная концепция называется инкапсуляцией, она позволяет упростить проектирование. Если бы мы собирали квадрокоптер не из готовых модулей, а из отдельных деталей, мы бы потратили уйму времени на изучение их свойств и способов взаимодействия между собой. Инкапсуляция позволяет радикально уменьшить количество взаимосвязей, которые нужно учитывать."
   ]
  },
  {
   "cell_type": "markdown",
   "metadata": {},
   "source": [
    "Объекты реального мира можно усложнять, добавляя к ним новые элементы или способы взаимодействия с ними. То же самое можно делать и с классами. При этом получается новый класс, который часть своей структуры наследует от старого, а часть добавляет к ней. Соответствующая техника так и называется - наследование. В примере ниже мы добавим к списку несколько новых методов, так что его будет удобно использовать в качестве очереди. PushTail добавляет элемент в конец, а PopFront извлекает элемент, стоящий в очереди первым."
   ]
  },
  {
   "cell_type": "code",
   "execution_count": 14,
   "metadata": {
    "collapsed": false
   },
   "outputs": [
    {
     "name": "stdout",
     "output_type": "stream",
     "text": [
      "2\n",
      "1\n",
      "2\n"
     ]
    }
   ],
   "source": [
    "class Queue(list):\n",
    "\n",
    "    def Length(self):\n",
    "        return len(self)\n",
    "\n",
    "    def PushTail(self, item):\n",
    "        self.append(item)\n",
    "\n",
    "    def PopFront(self):\n",
    "        i = self[0]\n",
    "        del self[0]\n",
    "        return i\n",
    "\n",
    "q = Queue()\n",
    "q.PushTail(1)\n",
    "q.PushTail(2)\n",
    "print(q.Length())\n",
    "print(q.PopFront())\n",
    "print(q.PopFront())"
   ]
  },
  {
   "cell_type": "markdown",
   "metadata": {},
   "source": [
    "Чтобы указать, что наш класс наследует список, мы указываем его тип *list* в скобках после объявления нашего типа *Queue*. Наследование часто используется в гуе. Обычно библиотека предоставляет нам готовый класс виджета, а мы добавляем к нему свою функциональность вроде реакций на клики пользователя путем наследования."
   ]
  }
 ],
 "metadata": {
  "kernelspec": {
   "display_name": "Python 3",
   "language": "python",
   "name": "python3"
  },
  "language_info": {
   "codemirror_mode": {
    "name": "ipython",
    "version": 3
   },
   "file_extension": ".py",
   "mimetype": "text/x-python",
   "name": "python",
   "nbconvert_exporter": "python",
   "pygments_lexer": "ipython3",
   "version": "3.5.1"
  }
 },
 "nbformat": 4,
 "nbformat_minor": 0
}
