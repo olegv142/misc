{
 "cells": [
  {
   "cell_type": "code",
   "execution_count": null,
   "metadata": {
    "collapsed": true
   },
   "outputs": [],
   "source": [
    "class Empty:\n",
    "    pass\n",
    "\n",
    "e = Empty()\n",
    "e.something = 1\n",
    "print(e.something)"
   ]
  },
  {
   "cell_type": "markdown",
   "metadata": {},
   "source": [
    "Пустой класс - это просто пустой мешок, в котором изначально нет никаких переменных (их принято называть членами класса - *members*). Их можно туда добавить, написав имя через точку. Ключевое слово *empty* используется всегда, когда синтакс требует, чтобы что то было написано, а писать нам нечего. Можно ли сразу создать экземпляр класса с нужным наполнением? Так обычно и делают - для этого используется *конструктор*\n"
   ]
  },
  {
   "cell_type": "code",
   "execution_count": 2,
   "metadata": {
    "collapsed": false
   },
   "outputs": [
    {
     "name": "stdout",
     "output_type": "stream",
     "text": [
      "0 2\n"
     ]
    }
   ],
   "source": [
    "class Segment:\n",
    "    def __init__(self, left, right):\n",
    "        self.left = left\n",
    "        self.right = right\n",
    "\n",
    "s = Segment(0, 2)\n",
    "print(s.left, s.right)"
   ]
  },
  {
   "cell_type": "markdown",
   "metadata": {},
   "source": [
    "Конструктор иммет предопределенное имя *\\_\\_init\\_\\_*. Вообще в питоне много предопределенных имен, почти все они выделяются подчеркиванием. Конструктор вызывается всякий раз, когда создается новый экземпляр класса. В качестве первого параметра он получает тот самый экземпляр, который создается, и добавляет туда члены класса. По традиции этот параметр называется *self*. Остальные параметры конструктора - это то, что ты пишешь в скобках после имени класса. Конструктор - это *метод* класса. Так называют функции, которые работают с экземпляряами класса. Они получают этот экземпляр в качестве первого параметра и вызываются особым образом. Еще пример метода:"
   ]
  },
  {
   "cell_type": "code",
   "execution_count": 3,
   "metadata": {
    "collapsed": false
   },
   "outputs": [
    {
     "name": "stdout",
     "output_type": "stream",
     "text": [
      "2\n"
     ]
    }
   ],
   "source": [
    "class Segment:\n",
    "    def __init__(self, left, right):\n",
    "        self.left = left\n",
    "        self.right = right\n",
    "\n",
    "    def Length(self):\n",
    "        return self.right - self.left\n",
    "\n",
    "s = Segment(0, 2)\n",
    "print(s.Length())\n"
   ]
  },
  {
   "cell_type": "markdown",
   "metadata": {},
   "source": [
    "Вызов метода оформляется точно так же, как доступ к членам класса - через точку."
   ]
  },
  {
   "cell_type": "code",
   "execution_count": null,
   "metadata": {
    "collapsed": true
   },
   "outputs": [],
   "source": []
  }
 ],
 "metadata": {
  "kernelspec": {
   "display_name": "Python 3",
   "language": "python",
   "name": "python3"
  },
  "language_info": {
   "codemirror_mode": {
    "name": "ipython",
    "version": 3
   },
   "file_extension": ".py",
   "mimetype": "text/x-python",
   "name": "python",
   "nbconvert_exporter": "python",
   "pygments_lexer": "ipython3",
   "version": "3.5.1"
  }
 },
 "nbformat": 4,
 "nbformat_minor": 0
}
